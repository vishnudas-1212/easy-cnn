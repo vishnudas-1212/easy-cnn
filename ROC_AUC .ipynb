{
 "cells": [
  {
   "cell_type": "markdown",
   "metadata": {
    "id": "4A8FSGNAWAPu"
   },
   "source": [
    "#  ROC (Receiver Operating Characteristic )  Curve\n",
    "# AUC (Area Under the Curve ) Score\n"
   ]
  },
  {
   "cell_type": "code",
   "execution_count": 3,
   "metadata": {
    "colab": {
     "base_uri": "https://localhost:8080/",
     "height": 441
    },
    "executionInfo": {
     "elapsed": 2893,
     "status": "error",
     "timestamp": 1604226879973,
     "user": {
      "displayName": "Hemanth kumar",
      "photoUrl": "https://lh3.googleusercontent.com/a-/AOh14GjkPuIu1A00nC8FCrFCSJmK1K4x-l-UmjHISU2kZQ=s64",
      "userId": "02792351768922846610"
     },
     "user_tz": 480
    },
    "id": "ptgZegCrWAPw",
    "outputId": "62dedaa4-cdeb-4b3c-accb-0fac2739ec91"
   },
   "outputs": [
    {
     "name": "stdout",
     "output_type": "stream",
     "text": [
      "(569, 31)\n"
     ]
    },
    {
     "data": {
      "text/html": [
       "<div>\n",
       "<style scoped>\n",
       "    .dataframe tbody tr th:only-of-type {\n",
       "        vertical-align: middle;\n",
       "    }\n",
       "\n",
       "    .dataframe tbody tr th {\n",
       "        vertical-align: top;\n",
       "    }\n",
       "\n",
       "    .dataframe thead th {\n",
       "        text-align: right;\n",
       "    }\n",
       "</style>\n",
       "<table border=\"1\" class=\"dataframe\">\n",
       "  <thead>\n",
       "    <tr style=\"text-align: right;\">\n",
       "      <th></th>\n",
       "      <th>mean radius</th>\n",
       "      <th>mean texture</th>\n",
       "      <th>mean perimeter</th>\n",
       "      <th>mean area</th>\n",
       "      <th>mean smoothness</th>\n",
       "      <th>mean compactness</th>\n",
       "      <th>mean concavity</th>\n",
       "      <th>mean concave points</th>\n",
       "      <th>mean symmetry</th>\n",
       "      <th>mean fractal dimension</th>\n",
       "      <th>...</th>\n",
       "      <th>worst texture</th>\n",
       "      <th>worst perimeter</th>\n",
       "      <th>worst area</th>\n",
       "      <th>worst smoothness</th>\n",
       "      <th>worst compactness</th>\n",
       "      <th>worst concavity</th>\n",
       "      <th>worst concave points</th>\n",
       "      <th>worst symmetry</th>\n",
       "      <th>worst fractal dimension</th>\n",
       "      <th>outcome</th>\n",
       "    </tr>\n",
       "  </thead>\n",
       "  <tbody>\n",
       "    <tr>\n",
       "      <th>0</th>\n",
       "      <td>17.99</td>\n",
       "      <td>10.38</td>\n",
       "      <td>122.80</td>\n",
       "      <td>1001.0</td>\n",
       "      <td>0.11840</td>\n",
       "      <td>0.27760</td>\n",
       "      <td>0.3001</td>\n",
       "      <td>0.14710</td>\n",
       "      <td>0.2419</td>\n",
       "      <td>0.07871</td>\n",
       "      <td>...</td>\n",
       "      <td>17.33</td>\n",
       "      <td>184.60</td>\n",
       "      <td>2019.0</td>\n",
       "      <td>0.1622</td>\n",
       "      <td>0.6656</td>\n",
       "      <td>0.7119</td>\n",
       "      <td>0.2654</td>\n",
       "      <td>0.4601</td>\n",
       "      <td>0.11890</td>\n",
       "      <td>1</td>\n",
       "    </tr>\n",
       "    <tr>\n",
       "      <th>1</th>\n",
       "      <td>20.57</td>\n",
       "      <td>17.77</td>\n",
       "      <td>132.90</td>\n",
       "      <td>1326.0</td>\n",
       "      <td>0.08474</td>\n",
       "      <td>0.07864</td>\n",
       "      <td>0.0869</td>\n",
       "      <td>0.07017</td>\n",
       "      <td>0.1812</td>\n",
       "      <td>0.05667</td>\n",
       "      <td>...</td>\n",
       "      <td>23.41</td>\n",
       "      <td>158.80</td>\n",
       "      <td>1956.0</td>\n",
       "      <td>0.1238</td>\n",
       "      <td>0.1866</td>\n",
       "      <td>0.2416</td>\n",
       "      <td>0.1860</td>\n",
       "      <td>0.2750</td>\n",
       "      <td>0.08902</td>\n",
       "      <td>1</td>\n",
       "    </tr>\n",
       "    <tr>\n",
       "      <th>2</th>\n",
       "      <td>19.69</td>\n",
       "      <td>21.25</td>\n",
       "      <td>130.00</td>\n",
       "      <td>1203.0</td>\n",
       "      <td>0.10960</td>\n",
       "      <td>0.15990</td>\n",
       "      <td>0.1974</td>\n",
       "      <td>0.12790</td>\n",
       "      <td>0.2069</td>\n",
       "      <td>0.05999</td>\n",
       "      <td>...</td>\n",
       "      <td>25.53</td>\n",
       "      <td>152.50</td>\n",
       "      <td>1709.0</td>\n",
       "      <td>0.1444</td>\n",
       "      <td>0.4245</td>\n",
       "      <td>0.4504</td>\n",
       "      <td>0.2430</td>\n",
       "      <td>0.3613</td>\n",
       "      <td>0.08758</td>\n",
       "      <td>1</td>\n",
       "    </tr>\n",
       "    <tr>\n",
       "      <th>3</th>\n",
       "      <td>11.42</td>\n",
       "      <td>20.38</td>\n",
       "      <td>77.58</td>\n",
       "      <td>386.1</td>\n",
       "      <td>0.14250</td>\n",
       "      <td>0.28390</td>\n",
       "      <td>0.2414</td>\n",
       "      <td>0.10520</td>\n",
       "      <td>0.2597</td>\n",
       "      <td>0.09744</td>\n",
       "      <td>...</td>\n",
       "      <td>26.50</td>\n",
       "      <td>98.87</td>\n",
       "      <td>567.7</td>\n",
       "      <td>0.2098</td>\n",
       "      <td>0.8663</td>\n",
       "      <td>0.6869</td>\n",
       "      <td>0.2575</td>\n",
       "      <td>0.6638</td>\n",
       "      <td>0.17300</td>\n",
       "      <td>1</td>\n",
       "    </tr>\n",
       "    <tr>\n",
       "      <th>4</th>\n",
       "      <td>20.29</td>\n",
       "      <td>14.34</td>\n",
       "      <td>135.10</td>\n",
       "      <td>1297.0</td>\n",
       "      <td>0.10030</td>\n",
       "      <td>0.13280</td>\n",
       "      <td>0.1980</td>\n",
       "      <td>0.10430</td>\n",
       "      <td>0.1809</td>\n",
       "      <td>0.05883</td>\n",
       "      <td>...</td>\n",
       "      <td>16.67</td>\n",
       "      <td>152.20</td>\n",
       "      <td>1575.0</td>\n",
       "      <td>0.1374</td>\n",
       "      <td>0.2050</td>\n",
       "      <td>0.4000</td>\n",
       "      <td>0.1625</td>\n",
       "      <td>0.2364</td>\n",
       "      <td>0.07678</td>\n",
       "      <td>1</td>\n",
       "    </tr>\n",
       "  </tbody>\n",
       "</table>\n",
       "<p>5 rows × 31 columns</p>\n",
       "</div>"
      ],
      "text/plain": [
       "   mean radius  mean texture  mean perimeter  mean area  mean smoothness  \\\n",
       "0        17.99         10.38          122.80     1001.0          0.11840   \n",
       "1        20.57         17.77          132.90     1326.0          0.08474   \n",
       "2        19.69         21.25          130.00     1203.0          0.10960   \n",
       "3        11.42         20.38           77.58      386.1          0.14250   \n",
       "4        20.29         14.34          135.10     1297.0          0.10030   \n",
       "\n",
       "   mean compactness  mean concavity  mean concave points  mean symmetry  \\\n",
       "0           0.27760          0.3001              0.14710         0.2419   \n",
       "1           0.07864          0.0869              0.07017         0.1812   \n",
       "2           0.15990          0.1974              0.12790         0.2069   \n",
       "3           0.28390          0.2414              0.10520         0.2597   \n",
       "4           0.13280          0.1980              0.10430         0.1809   \n",
       "\n",
       "   mean fractal dimension  ...  worst texture  worst perimeter  worst area  \\\n",
       "0                 0.07871  ...          17.33           184.60      2019.0   \n",
       "1                 0.05667  ...          23.41           158.80      1956.0   \n",
       "2                 0.05999  ...          25.53           152.50      1709.0   \n",
       "3                 0.09744  ...          26.50            98.87       567.7   \n",
       "4                 0.05883  ...          16.67           152.20      1575.0   \n",
       "\n",
       "   worst smoothness  worst compactness  worst concavity  worst concave points  \\\n",
       "0            0.1622             0.6656           0.7119                0.2654   \n",
       "1            0.1238             0.1866           0.2416                0.1860   \n",
       "2            0.1444             0.4245           0.4504                0.2430   \n",
       "3            0.2098             0.8663           0.6869                0.2575   \n",
       "4            0.1374             0.2050           0.4000                0.1625   \n",
       "\n",
       "   worst symmetry  worst fractal dimension  outcome  \n",
       "0          0.4601                  0.11890        1  \n",
       "1          0.2750                  0.08902        1  \n",
       "2          0.3613                  0.08758        1  \n",
       "3          0.6638                  0.17300        1  \n",
       "4          0.2364                  0.07678        1  \n",
       "\n",
       "[5 rows x 31 columns]"
      ]
     },
     "execution_count": 3,
     "metadata": {},
     "output_type": "execute_result"
    }
   ],
   "source": [
    "import pandas as pd\n",
    "data = pd.read_csv('breast_cancer.csv')\n",
    "print(data.shape)\n",
    "data.head()"
   ]
  },
  {
   "cell_type": "code",
   "execution_count": 4,
   "metadata": {
    "id": "lzami_keWAP3",
    "outputId": "04dbcdb3-5f5d-4943-8c6c-7327a3274e36"
   },
   "outputs": [
    {
     "data": {
      "text/html": [
       "<div>\n",
       "<style scoped>\n",
       "    .dataframe tbody tr th:only-of-type {\n",
       "        vertical-align: middle;\n",
       "    }\n",
       "\n",
       "    .dataframe tbody tr th {\n",
       "        vertical-align: top;\n",
       "    }\n",
       "\n",
       "    .dataframe thead th {\n",
       "        text-align: right;\n",
       "    }\n",
       "</style>\n",
       "<table border=\"1\" class=\"dataframe\">\n",
       "  <thead>\n",
       "    <tr style=\"text-align: right;\">\n",
       "      <th></th>\n",
       "      <th>mean radius</th>\n",
       "      <th>mean texture</th>\n",
       "      <th>mean perimeter</th>\n",
       "      <th>mean area</th>\n",
       "      <th>mean smoothness</th>\n",
       "      <th>mean compactness</th>\n",
       "      <th>mean concavity</th>\n",
       "      <th>mean concave points</th>\n",
       "      <th>mean symmetry</th>\n",
       "      <th>mean fractal dimension</th>\n",
       "      <th>...</th>\n",
       "      <th>worst radius</th>\n",
       "      <th>worst texture</th>\n",
       "      <th>worst perimeter</th>\n",
       "      <th>worst area</th>\n",
       "      <th>worst smoothness</th>\n",
       "      <th>worst compactness</th>\n",
       "      <th>worst concavity</th>\n",
       "      <th>worst concave points</th>\n",
       "      <th>worst symmetry</th>\n",
       "      <th>worst fractal dimension</th>\n",
       "    </tr>\n",
       "  </thead>\n",
       "  <tbody>\n",
       "    <tr>\n",
       "      <th>0</th>\n",
       "      <td>17.99</td>\n",
       "      <td>10.38</td>\n",
       "      <td>122.80</td>\n",
       "      <td>1001.0</td>\n",
       "      <td>0.11840</td>\n",
       "      <td>0.27760</td>\n",
       "      <td>0.3001</td>\n",
       "      <td>0.14710</td>\n",
       "      <td>0.2419</td>\n",
       "      <td>0.07871</td>\n",
       "      <td>...</td>\n",
       "      <td>25.38</td>\n",
       "      <td>17.33</td>\n",
       "      <td>184.60</td>\n",
       "      <td>2019.0</td>\n",
       "      <td>0.1622</td>\n",
       "      <td>0.6656</td>\n",
       "      <td>0.7119</td>\n",
       "      <td>0.2654</td>\n",
       "      <td>0.4601</td>\n",
       "      <td>0.11890</td>\n",
       "    </tr>\n",
       "    <tr>\n",
       "      <th>1</th>\n",
       "      <td>20.57</td>\n",
       "      <td>17.77</td>\n",
       "      <td>132.90</td>\n",
       "      <td>1326.0</td>\n",
       "      <td>0.08474</td>\n",
       "      <td>0.07864</td>\n",
       "      <td>0.0869</td>\n",
       "      <td>0.07017</td>\n",
       "      <td>0.1812</td>\n",
       "      <td>0.05667</td>\n",
       "      <td>...</td>\n",
       "      <td>24.99</td>\n",
       "      <td>23.41</td>\n",
       "      <td>158.80</td>\n",
       "      <td>1956.0</td>\n",
       "      <td>0.1238</td>\n",
       "      <td>0.1866</td>\n",
       "      <td>0.2416</td>\n",
       "      <td>0.1860</td>\n",
       "      <td>0.2750</td>\n",
       "      <td>0.08902</td>\n",
       "    </tr>\n",
       "    <tr>\n",
       "      <th>2</th>\n",
       "      <td>19.69</td>\n",
       "      <td>21.25</td>\n",
       "      <td>130.00</td>\n",
       "      <td>1203.0</td>\n",
       "      <td>0.10960</td>\n",
       "      <td>0.15990</td>\n",
       "      <td>0.1974</td>\n",
       "      <td>0.12790</td>\n",
       "      <td>0.2069</td>\n",
       "      <td>0.05999</td>\n",
       "      <td>...</td>\n",
       "      <td>23.57</td>\n",
       "      <td>25.53</td>\n",
       "      <td>152.50</td>\n",
       "      <td>1709.0</td>\n",
       "      <td>0.1444</td>\n",
       "      <td>0.4245</td>\n",
       "      <td>0.4504</td>\n",
       "      <td>0.2430</td>\n",
       "      <td>0.3613</td>\n",
       "      <td>0.08758</td>\n",
       "    </tr>\n",
       "    <tr>\n",
       "      <th>3</th>\n",
       "      <td>11.42</td>\n",
       "      <td>20.38</td>\n",
       "      <td>77.58</td>\n",
       "      <td>386.1</td>\n",
       "      <td>0.14250</td>\n",
       "      <td>0.28390</td>\n",
       "      <td>0.2414</td>\n",
       "      <td>0.10520</td>\n",
       "      <td>0.2597</td>\n",
       "      <td>0.09744</td>\n",
       "      <td>...</td>\n",
       "      <td>14.91</td>\n",
       "      <td>26.50</td>\n",
       "      <td>98.87</td>\n",
       "      <td>567.7</td>\n",
       "      <td>0.2098</td>\n",
       "      <td>0.8663</td>\n",
       "      <td>0.6869</td>\n",
       "      <td>0.2575</td>\n",
       "      <td>0.6638</td>\n",
       "      <td>0.17300</td>\n",
       "    </tr>\n",
       "    <tr>\n",
       "      <th>4</th>\n",
       "      <td>20.29</td>\n",
       "      <td>14.34</td>\n",
       "      <td>135.10</td>\n",
       "      <td>1297.0</td>\n",
       "      <td>0.10030</td>\n",
       "      <td>0.13280</td>\n",
       "      <td>0.1980</td>\n",
       "      <td>0.10430</td>\n",
       "      <td>0.1809</td>\n",
       "      <td>0.05883</td>\n",
       "      <td>...</td>\n",
       "      <td>22.54</td>\n",
       "      <td>16.67</td>\n",
       "      <td>152.20</td>\n",
       "      <td>1575.0</td>\n",
       "      <td>0.1374</td>\n",
       "      <td>0.2050</td>\n",
       "      <td>0.4000</td>\n",
       "      <td>0.1625</td>\n",
       "      <td>0.2364</td>\n",
       "      <td>0.07678</td>\n",
       "    </tr>\n",
       "  </tbody>\n",
       "</table>\n",
       "<p>5 rows × 30 columns</p>\n",
       "</div>"
      ],
      "text/plain": [
       "   mean radius  mean texture  mean perimeter  mean area  mean smoothness  \\\n",
       "0        17.99         10.38          122.80     1001.0          0.11840   \n",
       "1        20.57         17.77          132.90     1326.0          0.08474   \n",
       "2        19.69         21.25          130.00     1203.0          0.10960   \n",
       "3        11.42         20.38           77.58      386.1          0.14250   \n",
       "4        20.29         14.34          135.10     1297.0          0.10030   \n",
       "\n",
       "   mean compactness  mean concavity  mean concave points  mean symmetry  \\\n",
       "0           0.27760          0.3001              0.14710         0.2419   \n",
       "1           0.07864          0.0869              0.07017         0.1812   \n",
       "2           0.15990          0.1974              0.12790         0.2069   \n",
       "3           0.28390          0.2414              0.10520         0.2597   \n",
       "4           0.13280          0.1980              0.10430         0.1809   \n",
       "\n",
       "   mean fractal dimension  ...  worst radius  worst texture  worst perimeter  \\\n",
       "0                 0.07871  ...         25.38          17.33           184.60   \n",
       "1                 0.05667  ...         24.99          23.41           158.80   \n",
       "2                 0.05999  ...         23.57          25.53           152.50   \n",
       "3                 0.09744  ...         14.91          26.50            98.87   \n",
       "4                 0.05883  ...         22.54          16.67           152.20   \n",
       "\n",
       "   worst area  worst smoothness  worst compactness  worst concavity  \\\n",
       "0      2019.0            0.1622             0.6656           0.7119   \n",
       "1      1956.0            0.1238             0.1866           0.2416   \n",
       "2      1709.0            0.1444             0.4245           0.4504   \n",
       "3       567.7            0.2098             0.8663           0.6869   \n",
       "4      1575.0            0.1374             0.2050           0.4000   \n",
       "\n",
       "   worst concave points  worst symmetry  worst fractal dimension  \n",
       "0                0.2654          0.4601                  0.11890  \n",
       "1                0.1860          0.2750                  0.08902  \n",
       "2                0.2430          0.3613                  0.08758  \n",
       "3                0.2575          0.6638                  0.17300  \n",
       "4                0.1625          0.2364                  0.07678  \n",
       "\n",
       "[5 rows x 30 columns]"
      ]
     },
     "execution_count": 4,
     "metadata": {},
     "output_type": "execute_result"
    }
   ],
   "source": [
    "X = data.iloc[:,:-1]\n",
    "y = data.outcome\n",
    "X.head()"
   ]
  },
  {
   "cell_type": "code",
   "execution_count": 5,
   "metadata": {
    "id": "MMXbt28xWAP7"
   },
   "outputs": [],
   "source": [
    "from sklearn.model_selection import train_test_split\n",
    "X_train,X_test,y_train,y_test = train_test_split(X,y,test_size=0.3,random_state=10)"
   ]
  },
  {
   "cell_type": "code",
   "execution_count": 6,
   "metadata": {
    "id": "dr2B9G7fWAP_",
    "outputId": "72a19649-ea39-43f2-9ae1-ec95327a923e"
   },
   "outputs": [
    {
     "name": "stderr",
     "output_type": "stream",
     "text": [
      "C:\\Users\\DMS39\\anaconda3\\lib\\site-packages\\sklearn\\linear_model\\_logistic.py:762: ConvergenceWarning: lbfgs failed to converge (status=1):\n",
      "STOP: TOTAL NO. of ITERATIONS REACHED LIMIT.\n",
      "\n",
      "Increase the number of iterations (max_iter) or scale the data as shown in:\n",
      "    https://scikit-learn.org/stable/modules/preprocessing.html\n",
      "Please also refer to the documentation for alternative solver options:\n",
      "    https://scikit-learn.org/stable/modules/linear_model.html#logistic-regression\n",
      "  n_iter_i = _check_optimize_result(\n"
     ]
    }
   ],
   "source": [
    "from sklearn.linear_model import LogisticRegression\n",
    "model = LogisticRegression()\n",
    "model.fit(X_train,y_train)\n",
    "y_predict= model.predict(X_test)"
   ]
  },
  {
   "cell_type": "code",
   "execution_count": 7,
   "metadata": {
    "id": "YFlrlAt1WAQC",
    "outputId": "42e6bb6e-ecb4-485c-d114-854ad1ff2dd5"
   },
   "outputs": [
    {
     "name": "stdout",
     "output_type": "stream",
     "text": [
      "0.9473684210526315\n"
     ]
    },
    {
     "data": {
      "text/html": [
       "<div>\n",
       "<style scoped>\n",
       "    .dataframe tbody tr th:only-of-type {\n",
       "        vertical-align: middle;\n",
       "    }\n",
       "\n",
       "    .dataframe tbody tr th {\n",
       "        vertical-align: top;\n",
       "    }\n",
       "\n",
       "    .dataframe thead th {\n",
       "        text-align: right;\n",
       "    }\n",
       "</style>\n",
       "<table border=\"1\" class=\"dataframe\">\n",
       "  <thead>\n",
       "    <tr style=\"text-align: right;\">\n",
       "      <th>col_0</th>\n",
       "      <th>0</th>\n",
       "      <th>1</th>\n",
       "    </tr>\n",
       "    <tr>\n",
       "      <th>outcome</th>\n",
       "      <th></th>\n",
       "      <th></th>\n",
       "    </tr>\n",
       "  </thead>\n",
       "  <tbody>\n",
       "    <tr>\n",
       "      <th>0</th>\n",
       "      <td>106</td>\n",
       "      <td>6</td>\n",
       "    </tr>\n",
       "    <tr>\n",
       "      <th>1</th>\n",
       "      <td>3</td>\n",
       "      <td>56</td>\n",
       "    </tr>\n",
       "  </tbody>\n",
       "</table>\n",
       "</div>"
      ],
      "text/plain": [
       "col_0      0   1\n",
       "outcome         \n",
       "0        106   6\n",
       "1          3  56"
      ]
     },
     "execution_count": 7,
     "metadata": {},
     "output_type": "execute_result"
    }
   ],
   "source": [
    "from sklearn.metrics import accuracy_score\n",
    "print(accuracy_score(y_test,y_predict))\n",
    "pd.crosstab(y_test,y_predict)"
   ]
  },
  {
   "cell_type": "code",
   "execution_count": 8,
   "metadata": {
    "id": "AKEvpztMWAQF",
    "outputId": "76a23484-3d80-4998-cbd6-ee1865c477aa"
   },
   "outputs": [
    {
     "data": {
      "text/plain": [
       "array([1, 0, 0, 1, 0, 0, 0, 1, 1, 1, 0, 0, 1, 0, 1, 1, 0, 0, 0, 1, 1, 0,\n",
       "       0, 0, 1, 1, 0, 1, 0, 0, 0, 0, 1, 0, 0, 0, 0, 0, 0, 0, 0, 0, 0, 1,\n",
       "       0, 1, 1, 1, 1, 0, 0, 0, 1, 0, 0, 1, 1, 0, 0, 0, 1, 0, 1, 0, 0, 1,\n",
       "       0, 0, 1, 1, 0, 0, 0, 0, 0, 1, 0, 0, 1, 1, 0, 0, 1, 0, 0, 0, 0, 1,\n",
       "       0, 1, 0, 0, 1, 0, 0, 0, 1, 0, 1, 0, 1, 1, 0, 0, 0, 0, 1, 1, 0, 0,\n",
       "       0, 0, 1, 1, 1, 0, 0, 1, 1, 0, 0, 1, 0, 1, 0, 0, 1, 1, 0, 0, 0, 0,\n",
       "       1, 0, 0, 1, 1, 1, 0, 1, 0, 0, 1, 0, 0, 1, 0, 0, 0, 0, 1, 0, 1, 0,\n",
       "       0, 0, 1, 0, 0, 1, 0, 0, 0, 0, 0, 1, 1, 0, 0, 0, 0], dtype=int64)"
      ]
     },
     "execution_count": 8,
     "metadata": {},
     "output_type": "execute_result"
    }
   ],
   "source": [
    "model.predict(X_test)"
   ]
  },
  {
   "cell_type": "code",
   "execution_count": 18,
   "metadata": {
    "id": "FnU9V3hOWAQJ",
    "outputId": "3aa8021a-24af-4f7d-efb8-f78f1e1d2a61"
   },
   "outputs": [
    {
     "data": {
      "text/plain": [
       "array([[8.16545666e-03, 9.91834543e-01],\n",
       "       [9.99532483e-01, 4.67516649e-04],\n",
       "       [9.97822965e-01, 2.17703456e-03],\n",
       "       [9.64671751e-05, 9.99903533e-01],\n",
       "       [9.94735138e-01, 5.26486222e-03],\n",
       "       [9.73645518e-01, 2.63544817e-02],\n",
       "       [9.99376533e-01, 6.23467422e-04],\n",
       "       [3.06850595e-01, 6.93149405e-01],\n",
       "       [1.17540486e-06, 9.99998825e-01],\n",
       "       [6.21162468e-02, 9.37883753e-01],\n",
       "       [9.99769026e-01, 2.30973713e-04],\n",
       "       [9.99697268e-01, 3.02731793e-04],\n",
       "       [2.79699573e-01, 7.20300427e-01],\n",
       "       [9.98877246e-01, 1.12275422e-03],\n",
       "       [3.29599491e-04, 9.99670401e-01],\n",
       "       [2.79242684e-03, 9.97207573e-01],\n",
       "       [9.98160231e-01, 1.83976935e-03],\n",
       "       [8.10870872e-01, 1.89129128e-01],\n",
       "       [9.62334684e-01, 3.76653159e-02],\n",
       "       [3.68403337e-02, 9.63159666e-01],\n",
       "       [1.28024302e-01, 8.71975698e-01],\n",
       "       [6.51668647e-01, 3.48331353e-01],\n",
       "       [9.73039217e-01, 2.69607830e-02],\n",
       "       [9.75097523e-01, 2.49024767e-02],\n",
       "       [3.80686815e-10, 1.00000000e+00],\n",
       "       [1.62974518e-07, 9.99999837e-01],\n",
       "       [7.89249218e-01, 2.10750782e-01],\n",
       "       [7.27395144e-09, 9.99999993e-01],\n",
       "       [9.98650718e-01, 1.34928202e-03],\n",
       "       [9.02589007e-01, 9.74109931e-02],\n",
       "       [9.98561701e-01, 1.43829883e-03],\n",
       "       [9.91878551e-01, 8.12144890e-03],\n",
       "       [5.38917799e-11, 1.00000000e+00],\n",
       "       [9.98644831e-01, 1.35516882e-03],\n",
       "       [9.29510769e-01, 7.04892312e-02],\n",
       "       [9.98197635e-01, 1.80236548e-03],\n",
       "       [9.89508166e-01, 1.04918340e-02],\n",
       "       [9.99926635e-01, 7.33651145e-05],\n",
       "       [9.98246649e-01, 1.75335051e-03],\n",
       "       [9.92135597e-01, 7.86440344e-03],\n",
       "       [9.99161619e-01, 8.38381145e-04],\n",
       "       [9.99230247e-01, 7.69753486e-04],\n",
       "       [9.85316580e-01, 1.46834202e-02],\n",
       "       [3.15020857e-01, 6.84979143e-01],\n",
       "       [9.99208590e-01, 7.91410020e-04],\n",
       "       [0.00000000e+00, 1.00000000e+00],\n",
       "       [1.24510285e-02, 9.87548972e-01],\n",
       "       [1.74114011e-03, 9.98258860e-01],\n",
       "       [8.21960344e-03, 9.91780397e-01],\n",
       "       [9.89521850e-01, 1.04781496e-02],\n",
       "       [9.61329721e-01, 3.86702788e-02],\n",
       "       [9.83386972e-01, 1.66130279e-02],\n",
       "       [2.84100301e-04, 9.99715900e-01],\n",
       "       [9.95961977e-01, 4.03802324e-03],\n",
       "       [9.85794112e-01, 1.42058883e-02],\n",
       "       [0.00000000e+00, 1.00000000e+00],\n",
       "       [2.23059998e-05, 9.99977694e-01],\n",
       "       [9.99001156e-01, 9.98843606e-04],\n",
       "       [8.95892027e-01, 1.04107973e-01],\n",
       "       [9.99909628e-01, 9.03721121e-05],\n",
       "       [0.00000000e+00, 1.00000000e+00],\n",
       "       [9.99266356e-01, 7.33644431e-04],\n",
       "       [1.13036239e-02, 9.88696376e-01],\n",
       "       [7.86084614e-01, 2.13915386e-01],\n",
       "       [9.99623348e-01, 3.76652235e-04],\n",
       "       [9.38413432e-02, 9.06158657e-01],\n",
       "       [9.27392176e-01, 7.26078242e-02],\n",
       "       [9.99979011e-01, 2.09894024e-05],\n",
       "       [1.05757091e-03, 9.98942429e-01],\n",
       "       [2.16327855e-02, 9.78367214e-01],\n",
       "       [9.99883054e-01, 1.16945944e-04],\n",
       "       [9.99676749e-01, 3.23250986e-04],\n",
       "       [9.96952784e-01, 3.04721606e-03],\n",
       "       [9.99900262e-01, 9.97383450e-05],\n",
       "       [9.88236765e-01, 1.17632353e-02],\n",
       "       [4.02540308e-02, 9.59745969e-01],\n",
       "       [9.95018640e-01, 4.98136017e-03],\n",
       "       [9.93227606e-01, 6.77239371e-03],\n",
       "       [2.55644009e-05, 9.99974436e-01],\n",
       "       [4.95762763e-04, 9.99504237e-01],\n",
       "       [9.99371018e-01, 6.28982392e-04],\n",
       "       [9.92560788e-01, 7.43921163e-03],\n",
       "       [5.44044809e-11, 1.00000000e+00],\n",
       "       [9.85364820e-01, 1.46351800e-02],\n",
       "       [9.99916084e-01, 8.39156727e-05],\n",
       "       [9.95912410e-01, 4.08758962e-03],\n",
       "       [9.40403157e-01, 5.95968429e-02],\n",
       "       [4.96842989e-02, 9.50315701e-01],\n",
       "       [9.96032110e-01, 3.96789035e-03],\n",
       "       [1.47016506e-01, 8.52983494e-01],\n",
       "       [9.95719838e-01, 4.28016226e-03],\n",
       "       [9.18419903e-01, 8.15800967e-02],\n",
       "       [3.03325761e-05, 9.99969667e-01],\n",
       "       [9.81930177e-01, 1.80698232e-02],\n",
       "       [9.99858854e-01, 1.41145687e-04],\n",
       "       [9.98746573e-01, 1.25342676e-03],\n",
       "       [1.25161533e-08, 9.99999987e-01],\n",
       "       [9.98033000e-01, 1.96699995e-03],\n",
       "       [2.12094786e-11, 1.00000000e+00],\n",
       "       [9.97651071e-01, 2.34892913e-03],\n",
       "       [2.23553479e-08, 9.99999978e-01],\n",
       "       [3.91263244e-04, 9.99608737e-01],\n",
       "       [9.99984687e-01, 1.53125311e-05],\n",
       "       [9.99852226e-01, 1.47773593e-04],\n",
       "       [9.99396173e-01, 6.03827338e-04],\n",
       "       [9.99963799e-01, 3.62005966e-05],\n",
       "       [2.18889891e-08, 9.99999978e-01],\n",
       "       [0.00000000e+00, 1.00000000e+00],\n",
       "       [9.99350233e-01, 6.49766567e-04],\n",
       "       [9.98421819e-01, 1.57818059e-03],\n",
       "       [9.98748549e-01, 1.25145085e-03],\n",
       "       [9.79657391e-01, 2.03426089e-02],\n",
       "       [2.65809597e-12, 1.00000000e+00],\n",
       "       [1.24396408e-06, 9.99998756e-01],\n",
       "       [5.27133892e-13, 1.00000000e+00],\n",
       "       [9.99679674e-01, 3.20326164e-04],\n",
       "       [9.28220706e-01, 7.17792936e-02],\n",
       "       [1.06661124e-10, 1.00000000e+00],\n",
       "       [4.63439809e-03, 9.95365602e-01],\n",
       "       [9.99016208e-01, 9.83791896e-04],\n",
       "       [9.93683167e-01, 6.31683288e-03],\n",
       "       [1.76200219e-06, 9.99998238e-01],\n",
       "       [9.96795368e-01, 3.20463166e-03],\n",
       "       [1.07025500e-13, 1.00000000e+00],\n",
       "       [9.99987582e-01, 1.24177592e-05],\n",
       "       [9.47967929e-01, 5.20320710e-02],\n",
       "       [2.59010591e-11, 1.00000000e+00],\n",
       "       [3.03904376e-03, 9.96960956e-01],\n",
       "       [9.97869656e-01, 2.13034391e-03],\n",
       "       [9.88988680e-01, 1.10113196e-02],\n",
       "       [8.34378591e-01, 1.65621409e-01],\n",
       "       [9.99256252e-01, 7.43748125e-04],\n",
       "       [2.54221905e-01, 7.45778095e-01],\n",
       "       [9.99911213e-01, 8.87874054e-05],\n",
       "       [9.99595092e-01, 4.04907684e-04],\n",
       "       [3.41257065e-08, 9.99999966e-01],\n",
       "       [2.01108531e-01, 7.98891469e-01],\n",
       "       [2.09460851e-08, 9.99999979e-01],\n",
       "       [8.28200871e-01, 1.71799129e-01],\n",
       "       [8.73168066e-08, 9.99999913e-01],\n",
       "       [9.97084877e-01, 2.91512314e-03],\n",
       "       [9.99900826e-01, 9.91743456e-05],\n",
       "       [2.22044605e-16, 1.00000000e+00],\n",
       "       [9.99353609e-01, 6.46390783e-04],\n",
       "       [9.99619068e-01, 3.80931788e-04],\n",
       "       [2.16604512e-11, 1.00000000e+00],\n",
       "       [9.99799612e-01, 2.00388235e-04],\n",
       "       [9.91248221e-01, 8.75177923e-03],\n",
       "       [9.66283510e-01, 3.37164901e-02],\n",
       "       [9.99894317e-01, 1.05682706e-04],\n",
       "       [8.66212610e-04, 9.99133787e-01],\n",
       "       [9.99817464e-01, 1.82535788e-04],\n",
       "       [2.44013254e-10, 1.00000000e+00],\n",
       "       [6.93269522e-01, 3.06730478e-01],\n",
       "       [9.99823159e-01, 1.76841446e-04],\n",
       "       [9.87388864e-01, 1.26111362e-02],\n",
       "       [3.26299621e-08, 9.99999967e-01],\n",
       "       [9.96779560e-01, 3.22043964e-03],\n",
       "       [9.96464450e-01, 3.53555031e-03],\n",
       "       [1.79891223e-04, 9.99820109e-01],\n",
       "       [9.99393976e-01, 6.06023675e-04],\n",
       "       [9.99742908e-01, 2.57092445e-04],\n",
       "       [9.98687807e-01, 1.31219258e-03],\n",
       "       [9.98259614e-01, 1.74038553e-03],\n",
       "       [9.94076464e-01, 5.92353646e-03],\n",
       "       [4.59940826e-05, 9.99954006e-01],\n",
       "       [0.00000000e+00, 1.00000000e+00],\n",
       "       [9.63170933e-01, 3.68290673e-02],\n",
       "       [9.99975151e-01, 2.48490702e-05],\n",
       "       [9.97008829e-01, 2.99117072e-03],\n",
       "       [9.83704631e-01, 1.62953686e-02]])"
      ]
     },
     "execution_count": 18,
     "metadata": {},
     "output_type": "execute_result"
    }
   ],
   "source": [
    "model.predict_proba(X_test)"
   ]
  },
  {
   "cell_type": "code",
   "execution_count": 10,
   "metadata": {
    "id": "sE0RDDY2WAQO"
   },
   "outputs": [],
   "source": [
    "import numpy as np\n",
    "y_predict_th2 = np.where(model.predict_proba(X_test)[:,1]>0.2,1,0) # Threshold is 0.2\n",
    "y_predict_th3 = np.where(model.predict_proba(X_test)[:,1]>0.3,1,0) # Threshold is 0.3\n",
    "y_predict_th4 = np.where(model.predict_proba(X_test)[:,1]>0.4,1,0) # Threshold is 0.4"
   ]
  },
  {
   "cell_type": "code",
   "execution_count": 11,
   "metadata": {
    "id": "3aUCUwacWAQR",
    "outputId": "d534a122-ff7d-48a4-c74d-ad6b1f7891ee"
   },
   "outputs": [
    {
     "data": {
      "text/html": [
       "<div>\n",
       "<style scoped>\n",
       "    .dataframe tbody tr th:only-of-type {\n",
       "        vertical-align: middle;\n",
       "    }\n",
       "\n",
       "    .dataframe tbody tr th {\n",
       "        vertical-align: top;\n",
       "    }\n",
       "\n",
       "    .dataframe thead th {\n",
       "        text-align: right;\n",
       "    }\n",
       "</style>\n",
       "<table border=\"1\" class=\"dataframe\">\n",
       "  <thead>\n",
       "    <tr style=\"text-align: right;\">\n",
       "      <th>col_0</th>\n",
       "      <th>0</th>\n",
       "      <th>1</th>\n",
       "    </tr>\n",
       "    <tr>\n",
       "      <th>outcome</th>\n",
       "      <th></th>\n",
       "      <th></th>\n",
       "    </tr>\n",
       "  </thead>\n",
       "  <tbody>\n",
       "    <tr>\n",
       "      <th>0</th>\n",
       "      <td>106</td>\n",
       "      <td>6</td>\n",
       "    </tr>\n",
       "    <tr>\n",
       "      <th>1</th>\n",
       "      <td>3</td>\n",
       "      <td>56</td>\n",
       "    </tr>\n",
       "  </tbody>\n",
       "</table>\n",
       "</div>"
      ],
      "text/plain": [
       "col_0      0   1\n",
       "outcome         \n",
       "0        106   6\n",
       "1          3  56"
      ]
     },
     "execution_count": 11,
     "metadata": {},
     "output_type": "execute_result"
    }
   ],
   "source": [
    "pd.crosstab(y_test,y_predict_th4)"
   ]
  },
  {
   "cell_type": "code",
   "execution_count": 12,
   "metadata": {
    "id": "bnzJoSuMWAQU"
   },
   "outputs": [],
   "source": [
    "\n",
    "def predict_threshold (model,X_test,thresholds):\n",
    "    import numpy as np\n",
    "    return np.where(model.predict_proba(X_test)[:,1]>thresholds,1,0) # Threshold is 0.3"
   ]
  },
  {
   "cell_type": "code",
   "execution_count": 13,
   "metadata": {
    "id": "1vQQ_bL1WAQY",
    "outputId": "3ae92716-db0b-4dfe-b286-d765c058b52f"
   },
   "outputs": [
    {
     "name": "stdout",
     "output_type": "stream",
     "text": [
      "Threshold : 0.0\n",
      "[[  0 112]\n",
      " [  0  59]]\n",
      "Threshold : 0.1\n",
      "[[100  12]\n",
      " [  1  58]]\n",
      "Threshold : 0.2\n",
      "[[104   8]\n",
      " [  1  58]]\n",
      "Threshold : 0.30000000000000004\n",
      "[[105   7]\n",
      " [  2  57]]\n",
      "Threshold : 0.4\n",
      "[[106   6]\n",
      " [  3  56]]\n",
      "Threshold : 0.5\n",
      "[[106   6]\n",
      " [  3  56]]\n",
      "Threshold : 0.6000000000000001\n",
      "[[106   6]\n",
      " [  3  56]]\n",
      "Threshold : 0.7000000000000001\n",
      "[[107   5]\n",
      " [  4  55]]\n",
      "Threshold : 0.8\n",
      "[[108   4]\n",
      " [  6  53]]\n",
      "Threshold : 0.9\n",
      "[[109   3]\n",
      " [  7  52]]\n",
      "Threshold : 1.0\n",
      "[[112   0]\n",
      " [ 59   0]]\n"
     ]
    }
   ],
   "source": [
    "import numpy as np\n",
    "from sklearn.metrics import confusion_matrix\n",
    "for thr in np.arange(0,1.1,0.1):\n",
    "    y_predict = predict_threshold(model,X_test,thr)\n",
    "    print(\"Threshold :\",thr)\n",
    "    print(confusion_matrix(y_test,y_predict))"
   ]
  },
  {
   "cell_type": "code",
   "execution_count": 14,
   "metadata": {
    "id": "RdMKqK0uWAQb"
   },
   "outputs": [],
   "source": [
    "from sklearn.metrics import roc_curve, roc_auc_score"
   ]
  },
  {
   "cell_type": "code",
   "execution_count": 15,
   "metadata": {
    "id": "4zsB_tPXWAQe"
   },
   "outputs": [],
   "source": [
    "tpr,fpr,thresholds = roc_curve(y_test,model.predict_proba(X_test)[:,1])"
   ]
  },
  {
   "cell_type": "code",
   "execution_count": 16,
   "metadata": {
    "id": "qfOGrvfhWAQh",
    "outputId": "d835f2d0-0789-4b6a-aab2-6c314b6b7326"
   },
   "outputs": [
    {
     "data": {
      "text/plain": [
       "array([2.00000000e+00, 1.00000000e+00, 9.78367214e-01, 9.63159666e-01,\n",
       "       9.59745969e-01, 9.50315701e-01, 9.37883753e-01, 9.06158657e-01,\n",
       "       8.71975698e-01, 7.98891469e-01, 7.20300427e-01, 6.93149405e-01,\n",
       "       3.48331353e-01, 3.06730478e-01, 2.13915386e-01, 7.26078242e-02,\n",
       "       7.17792936e-02, 1.24177592e-05])"
      ]
     },
     "execution_count": 16,
     "metadata": {},
     "output_type": "execute_result"
    }
   ],
   "source": [
    "thresholds"
   ]
  },
  {
   "cell_type": "code",
   "execution_count": 17,
   "metadata": {
    "id": "UldbGwHAWAQl",
    "outputId": "95a9a53c-1794-45d2-906e-dcffc467ca32"
   },
   "outputs": [
    {
     "name": "stdout",
     "output_type": "stream",
     "text": [
      "0.9924334140435835\n"
     ]
    },
    {
     "data": {
      "image/png": "[encoded data removed]",
      "text/plain": [
       "<Figure size 432x288 with 1 Axes>"
      ]
     },
     "metadata": {
      "needs_background": "light"
     },
     "output_type": "display_data"
    }
   ],
   "source": [
    "import matplotlib.pyplot as plt\n",
    "from sklearn.metrics import roc_curve,roc_auc_score\n",
    "%matplotlib inline\n",
    "y_predict = model.predict_proba(X_test)[:,1]\n",
    "fpr, tpr, thresholds = roc_curve(y_test,y_predict)\n",
    "plt.title('ROC curve for breast cancer classifier')\n",
    "plt.xlabel('False Positive Rate (1 - Specificity)')\n",
    "plt.ylabel('True Positive Rate (Sensitivity)')\n",
    "plt.plot(fpr, tpr,color='green',lw=5)\n",
    "print(roc_auc_score(y_test,y_predict))\n",
    "plt.show()"
   ]
  },
  {
   "cell_type": "code",
   "execution_count": null,
   "metadata": {
    "id": "6L127i5MWAQo"
   },
   "outputs": [],
   "source": []
  },
  {
   "cell_type": "code",
   "execution_count": null,
   "metadata": {
    "id": "YBFSX8gZWAQr"
   },
   "outputs": [],
   "source": []
  },
  {
   "cell_type": "code",
   "execution_count": null,
   "metadata": {
    "id": "6HQUc4eSWAQu"
   },
   "outputs": [],
   "source": []
  }
 ],
 "metadata": {
  "colab": {
   "name": "ROC_AUC .ipynb",
   "provenance": []
  },
  "kernelspec": {
   "display_name": "Python 3",
   "language": "python",
   "name": "python3"
  },
  "language_info": {
   "codemirror_mode": {
    "name": "ipython",
    "version": 3
   },
   "file_extension": ".py",
   "mimetype": "text/x-python",
   "name": "python",
   "nbconvert_exporter": "python",
   "pygments_lexer": "ipython3",
   "version": "3.8.5"
  }
 },
 "nbformat": 4,
 "nbformat_minor": 1
}
