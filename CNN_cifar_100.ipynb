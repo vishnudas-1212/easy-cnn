{
  "nbformat": 4,
  "nbformat_minor": 0,
  "metadata": {
    "colab": {
      "name": "CNN cifar 100.ipynb",
      "provenance": [],
      "authorship_tag": "ABX9TyOlFQoowl0NWkQQDc0WzZKw",
      "include_colab_link": true
    },
    "kernelspec": {
      "name": "python3",
      "display_name": "Python 3"
    }
  },
  "cells": [
    {
      "cell_type": "markdown",
      "metadata": {
        "id": "view-in-github",
        "colab_type": "text"
      },
      "source": [
        "<a href=\"https://colab.research.google.com/github/vishnudas-1212/easy-cnn/blob/main/CNN_cifar_100.ipynb\" target=\"_parent\"><img src=\"https://colab.research.google.com/assets/colab-badge.svg\" alt=\"Open In Colab\"/></a>"
      ]
    },
    {
      "cell_type": "code",
      "metadata": {
        "id": "NBaYzzsmNAwu"
      },
      "source": [
        "import numpy as np\r\n",
        "import pandas as pd\r\n",
        "import matplotlib.pyplot as plt"
      ],
      "execution_count": 61,
      "outputs": []
    },
    {
      "cell_type": "code",
      "metadata": {
        "id": "xUDrWRXzNIa0"
      },
      "source": [
        "from keras.datasets import cifar100"
      ],
      "execution_count": 62,
      "outputs": []
    },
    {
      "cell_type": "code",
      "metadata": {
        "id": "oP8hV4bJNNjJ"
      },
      "source": [
        "(x_train,y_train),(x_test,y_test)=cifar100.load_data()"
      ],
      "execution_count": 63,
      "outputs": []
    },
    {
      "cell_type": "code",
      "metadata": {
        "colab": {
          "base_uri": "https://localhost:8080/"
        },
        "id": "Bap_UP2wN98V",
        "outputId": "281bc0b1-9dd1-4d7e-c39a-d0dad8f63343"
      },
      "source": [
        "x_train.shape"
      ],
      "execution_count": 64,
      "outputs": [
        {
          "output_type": "execute_result",
          "data": {
            "text/plain": [
              "(50000, 32, 32, 3)"
            ]
          },
          "metadata": {
            "tags": []
          },
          "execution_count": 64
        }
      ]
    },
    {
      "cell_type": "code",
      "metadata": {
        "colab": {
          "base_uri": "https://localhost:8080/"
        },
        "id": "SWOmCYCkOHV_",
        "outputId": "a81f58a8-b0ba-4677-8ad8-0237ca300648"
      },
      "source": [
        "x_test.shape"
      ],
      "execution_count": 65,
      "outputs": [
        {
          "output_type": "execute_result",
          "data": {
            "text/plain": [
              "(10000, 32, 32, 3)"
            ]
          },
          "metadata": {
            "tags": []
          },
          "execution_count": 65
        }
      ]
    },
    {
      "cell_type": "code",
      "metadata": {
        "colab": {
          "base_uri": "https://localhost:8080/",
          "height": 283
        },
        "id": "aFk_mdJyORZB",
        "outputId": "cb26f842-72d3-4c11-c656-1c1793f40726"
      },
      "source": [
        "plt.imshow(x_train[1])"
      ],
      "execution_count": 66,
      "outputs": [
        {
          "output_type": "execute_result",
          "data": {
            "text/plain": [
              "<matplotlib.image.AxesImage at 0x7fae299fbba8>"
            ]
          },
          "metadata": {
            "tags": []
          },
          "execution_count": 66
        },
        {
          "output_type": "display_data",
          "data": {
            "image/png": "[encoded data removed]",
            "text/plain": [
              "<Figure size 432x288 with 1 Axes>"
            ]
          },
          "metadata": {
            "tags": [],
            "needs_background": "light"
          }
        }
      ]
    },
    {
      "cell_type": "code",
      "metadata": {
        "id": "JD3RXm_6Ok-1"
      },
      "source": [
        "x_train=x_train/255"
      ],
      "execution_count": 67,
      "outputs": []
    },
    {
      "cell_type": "code",
      "metadata": {
        "id": "xM5uepylO5pL"
      },
      "source": [
        "x_test=x_test/255"
      ],
      "execution_count": 68,
      "outputs": []
    },
    {
      "cell_type": "code",
      "metadata": {
        "id": "EUn5bRHZO9wV"
      },
      "source": [
        "from keras.utils import  to_categorical"
      ],
      "execution_count": 69,
      "outputs": []
    },
    {
      "cell_type": "code",
      "metadata": {
        "id": "3yTWaN0cPOow"
      },
      "source": [
        "y_cat_train=to_categorical(y_train,100)"
      ],
      "execution_count": 70,
      "outputs": []
    },
    {
      "cell_type": "code",
      "metadata": {
        "id": "GlusF6nzPTSk"
      },
      "source": [
        "y_cat_test=to_categorical(y_test,100)"
      ],
      "execution_count": 71,
      "outputs": []
    },
    {
      "cell_type": "code",
      "metadata": {
        "colab": {
          "base_uri": "https://localhost:8080/"
        },
        "id": "TEyMVyRXPa3y",
        "outputId": "9f36ae66-104f-4af4-e1ad-8b5f501b11de"
      },
      "source": [
        "y_cat_train.shape"
      ],
      "execution_count": 72,
      "outputs": [
        {
          "output_type": "execute_result",
          "data": {
            "text/plain": [
              "(50000, 100)"
            ]
          },
          "metadata": {
            "tags": []
          },
          "execution_count": 72
        }
      ]
    },
    {
      "cell_type": "code",
      "metadata": {
        "id": "eTkWPqNHPhYZ"
      },
      "source": [
        "from keras.models import Sequential\r\n",
        "from keras.layers import Dense,Conv2D,MaxPool2D,Flatten "
      ],
      "execution_count": 73,
      "outputs": []
    },
    {
      "cell_type": "code",
      "metadata": {
        "id": "GHDYBwP2Qnwd"
      },
      "source": [
        "model=Sequential()\r\n",
        "model.add(Conv2D(filters=32,kernel_size=(3,3),input_shape=(32,32,3),activation='relu'))\r\n",
        "model.add(MaxPool2D(pool_size=(2,2)))\r\n",
        "\r\n",
        "model.add(Conv2D(filters=62,kernel_size=(3,3),input_shape=(32,32,3),activation='relu'))\r\n",
        "model.add(MaxPool2D(pool_size=(2,2)))\r\n",
        "\r\n",
        "model.add(Flatten())\r\n",
        "model.add(Dense(900,activation='relu'))\r\n",
        "model.add((Dense(100,activation='softmax')))\r\n",
        "\r\n",
        "model.compile(loss='categorical_crossentropy',\r\n",
        "              optimizer='rmsprop',\r\n",
        "              metrics=['accuracy'])"
      ],
      "execution_count": 74,
      "outputs": []
    },
    {
      "cell_type": "code",
      "metadata": {
        "colab": {
          "base_uri": "https://localhost:8080/"
        },
        "id": "sjI93DlIadaw",
        "outputId": "2f44b43f-ae0b-41ee-8cfc-63216e4ab286"
      },
      "source": [
        "model.summary()"
      ],
      "execution_count": 75,
      "outputs": [
        {
          "output_type": "stream",
          "text": [
            "Model: \"sequential_7\"\n",
            "_________________________________________________________________\n",
            "Layer (type)                 Output Shape              Param #   \n",
            "=================================================================\n",
            "conv2d_19 (Conv2D)           (None, 30, 30, 32)        896       \n",
            "_________________________________________________________________\n",
            "max_pooling2d_15 (MaxPooling (None, 15, 15, 32)        0         \n",
            "_________________________________________________________________\n",
            "conv2d_20 (Conv2D)           (None, 13, 13, 62)        17918     \n",
            "_________________________________________________________________\n",
            "max_pooling2d_16 (MaxPooling (None, 6, 6, 62)          0         \n",
            "_________________________________________________________________\n",
            "flatten_6 (Flatten)          (None, 2232)              0         \n",
            "_________________________________________________________________\n",
            "dense_10 (Dense)             (None, 900)               2009700   \n",
            "_________________________________________________________________\n",
            "dense_11 (Dense)             (None, 100)               90100     \n",
            "=================================================================\n",
            "Total params: 2,118,614\n",
            "Trainable params: 2,118,614\n",
            "Non-trainable params: 0\n",
            "_________________________________________________________________\n"
          ],
          "name": "stdout"
        }
      ]
    },
    {
      "cell_type": "code",
      "metadata": {
        "colab": {
          "base_uri": "https://localhost:8080/"
        },
        "id": "06FbKoMRaxDT",
        "outputId": "5100f37d-1c42-42d6-c0a4-c0bf2a5b2657"
      },
      "source": [
        "model.fit(x_train,y_cat_train,verbose=1,epochs=5)"
      ],
      "execution_count": 76,
      "outputs": [
        {
          "output_type": "stream",
          "text": [
            "Epoch 1/5\n",
            "1563/1563 [==============================] - 97s 61ms/step - loss: 3.8317 - accuracy: 0.1279\n",
            "Epoch 2/5\n",
            "1563/1563 [==============================] - 96s 61ms/step - loss: 2.6779 - accuracy: 0.3311\n",
            "Epoch 3/5\n",
            "1563/1563 [==============================] - 96s 61ms/step - loss: 2.2255 - accuracy: 0.4247\n",
            "Epoch 4/5\n",
            "1563/1563 [==============================] - 96s 61ms/step - loss: 1.8996 - accuracy: 0.5029\n",
            "Epoch 5/5\n",
            "1563/1563 [==============================] - 95s 61ms/step - loss: 1.6365 - accuracy: 0.5645\n"
          ],
          "name": "stdout"
        },
        {
          "output_type": "execute_result",
          "data": {
            "text/plain": [
              "<tensorflow.python.keras.callbacks.History at 0x7fae299152e8>"
            ]
          },
          "metadata": {
            "tags": []
          },
          "execution_count": 76
        }
      ]
    },
    {
      "cell_type": "code",
      "metadata": {
        "colab": {
          "base_uri": "https://localhost:8080/"
        },
        "id": "zpfCgaKPbCnE",
        "outputId": "4eb9b4ae-0656-46b6-9dbe-1856c0c91b15"
      },
      "source": [
        "model.evaluate(x_test,y_cat_test)"
      ],
      "execution_count": 77,
      "outputs": [
        {
          "output_type": "stream",
          "text": [
            "313/313 [==============================] - 5s 16ms/step - loss: 2.7211 - accuracy: 0.3787\n"
          ],
          "name": "stdout"
        },
        {
          "output_type": "execute_result",
          "data": {
            "text/plain": [
              "[2.721088409423828, 0.37869998812675476]"
            ]
          },
          "metadata": {
            "tags": []
          },
          "execution_count": 77
        }
      ]
    },
    {
      "cell_type": "code",
      "metadata": {
        "colab": {
          "base_uri": "https://localhost:8080/"
        },
        "id": "Fnxq6IvRdVLA",
        "outputId": "6f9e5767-f7d7-40a3-888f-ffc4b07f41a3"
      },
      "source": [
        "model.evaluate(x_test,y_cat_test)"
      ],
      "execution_count": 78,
      "outputs": [
        {
          "output_type": "stream",
          "text": [
            "313/313 [==============================] - 5s 16ms/step - loss: 2.7211 - accuracy: 0.3787\n"
          ],
          "name": "stdout"
        },
        {
          "output_type": "execute_result",
          "data": {
            "text/plain": [
              "[2.721088409423828, 0.37869998812675476]"
            ]
          },
          "metadata": {
            "tags": []
          },
          "execution_count": 78
        }
      ]
    },
    {
      "cell_type": "code",
      "metadata": {
        "colab": {
          "base_uri": "https://localhost:8080/"
        },
        "id": "r5JR6VPYdlf2",
        "outputId": "ca6477dd-69c5-424d-d159-96e17cbb25b1"
      },
      "source": [
        "from sklearn.metrics import classification_report\r\n",
        "\r\n",
        "predictions = model.predict_classes(x_test)"
      ],
      "execution_count": 79,
      "outputs": [
        {
          "output_type": "stream",
          "text": [
            "/usr/local/lib/python3.6/dist-packages/tensorflow/python/keras/engine/sequential.py:450: UserWarning: `model.predict_classes()` is deprecated and will be removed after 2021-01-01. Please use instead:* `np.argmax(model.predict(x), axis=-1)`,   if your model does multi-class classification   (e.g. if it uses a `softmax` last-layer activation).* `(model.predict(x) > 0.5).astype(\"int32\")`,   if your model does binary classification   (e.g. if it uses a `sigmoid` last-layer activation).\n",
            "  warnings.warn('`model.predict_classes()` is deprecated and '\n"
          ],
          "name": "stderr"
        }
      ]
    },
    {
      "cell_type": "code",
      "metadata": {
        "colab": {
          "base_uri": "https://localhost:8080/"
        },
        "id": "wegWdIvSdoHV",
        "outputId": "5d71de61-eb5b-47b9-dd7b-921d2d926b8a"
      },
      "source": [
        "print(classification_report(y_test,predictions))"
      ],
      "execution_count": 80,
      "outputs": [
        {
          "output_type": "stream",
          "text": [
            "              precision    recall  f1-score   support\n",
            "\n",
            "           0       0.75      0.60      0.67       100\n",
            "           1       0.39      0.62      0.48       100\n",
            "           2       0.40      0.18      0.25       100\n",
            "           3       0.21      0.27      0.23       100\n",
            "           4       0.14      0.36      0.20       100\n",
            "           5       0.28      0.34      0.31       100\n",
            "           6       0.33      0.50      0.40       100\n",
            "           7       0.48      0.39      0.43       100\n",
            "           8       0.74      0.34      0.47       100\n",
            "           9       0.57      0.49      0.53       100\n",
            "          10       0.30      0.26      0.28       100\n",
            "          11       0.19      0.41      0.26       100\n",
            "          12       0.47      0.29      0.36       100\n",
            "          13       0.33      0.35      0.34       100\n",
            "          14       0.32      0.41      0.36       100\n",
            "          15       0.30      0.26      0.28       100\n",
            "          16       0.43      0.33      0.38       100\n",
            "          17       0.53      0.55      0.54       100\n",
            "          18       0.32      0.41      0.36       100\n",
            "          19       0.32      0.24      0.27       100\n",
            "          20       0.81      0.55      0.65       100\n",
            "          21       0.38      0.60      0.47       100\n",
            "          22       0.26      0.39      0.31       100\n",
            "          23       0.55      0.64      0.59       100\n",
            "          24       0.49      0.78      0.60       100\n",
            "          25       0.34      0.23      0.28       100\n",
            "          26       0.76      0.16      0.26       100\n",
            "          27       0.34      0.21      0.26       100\n",
            "          28       0.50      0.68      0.58       100\n",
            "          29       0.44      0.32      0.37       100\n",
            "          30       0.36      0.43      0.39       100\n",
            "          31       0.51      0.34      0.41       100\n",
            "          32       0.20      0.46      0.28       100\n",
            "          33       0.70      0.21      0.32       100\n",
            "          34       0.52      0.22      0.31       100\n",
            "          35       0.25      0.15      0.19       100\n",
            "          36       0.38      0.42      0.40       100\n",
            "          37       0.38      0.34      0.36       100\n",
            "          38       0.21      0.12      0.15       100\n",
            "          39       0.69      0.31      0.43       100\n",
            "          40       0.33      0.40      0.36       100\n",
            "          41       0.79      0.59      0.67       100\n",
            "          42       0.48      0.28      0.35       100\n",
            "          43       0.30      0.51      0.37       100\n",
            "          44       0.25      0.14      0.18       100\n",
            "          45       0.32      0.20      0.25       100\n",
            "          46       0.37      0.20      0.26       100\n",
            "          47       0.39      0.63      0.48       100\n",
            "          48       0.66      0.64      0.65       100\n",
            "          49       0.49      0.56      0.52       100\n",
            "          50       0.26      0.19      0.22       100\n",
            "          51       0.43      0.43      0.43       100\n",
            "          52       0.46      0.52      0.49       100\n",
            "          53       0.55      0.59      0.57       100\n",
            "          54       0.68      0.41      0.51       100\n",
            "          55       0.11      0.21      0.15       100\n",
            "          56       0.54      0.55      0.54       100\n",
            "          57       0.31      0.49      0.38       100\n",
            "          58       0.74      0.29      0.42       100\n",
            "          59       0.26      0.19      0.22       100\n",
            "          60       0.66      0.80      0.72       100\n",
            "          61       0.62      0.37      0.46       100\n",
            "          62       0.43      0.24      0.31       100\n",
            "          63       0.67      0.33      0.44       100\n",
            "          64       0.22      0.20      0.21       100\n",
            "          65       0.13      0.50      0.20       100\n",
            "          66       0.44      0.28      0.34       100\n",
            "          67       0.35      0.25      0.29       100\n",
            "          68       0.78      0.60      0.68       100\n",
            "          69       0.48      0.63      0.54       100\n",
            "          70       0.47      0.32      0.38       100\n",
            "          71       0.71      0.41      0.52       100\n",
            "          72       0.12      0.02      0.03       100\n",
            "          73       0.27      0.51      0.35       100\n",
            "          74       0.41      0.11      0.17       100\n",
            "          75       0.83      0.57      0.67       100\n",
            "          76       0.65      0.63      0.64       100\n",
            "          77       0.35      0.29      0.32       100\n",
            "          78       0.21      0.16      0.18       100\n",
            "          79       0.48      0.34      0.40       100\n",
            "          80       0.10      0.32      0.15       100\n",
            "          81       0.33      0.34      0.34       100\n",
            "          82       0.37      0.85      0.51       100\n",
            "          83       0.30      0.31      0.31       100\n",
            "          84       0.29      0.27      0.28       100\n",
            "          85       0.70      0.30      0.42       100\n",
            "          86       0.48      0.43      0.46       100\n",
            "          87       0.58      0.44      0.50       100\n",
            "          88       0.44      0.27      0.34       100\n",
            "          89       0.62      0.32      0.42       100\n",
            "          90       0.40      0.31      0.35       100\n",
            "          91       0.45      0.45      0.45       100\n",
            "          92       0.26      0.17      0.20       100\n",
            "          93       0.23      0.25      0.24       100\n",
            "          94       0.75      0.67      0.71       100\n",
            "          95       0.33      0.47      0.39       100\n",
            "          96       0.37      0.27      0.31       100\n",
            "          97       0.38      0.31      0.34       100\n",
            "          98       0.12      0.09      0.10       100\n",
            "          99       0.40      0.29      0.34       100\n",
            "\n",
            "    accuracy                           0.38     10000\n",
            "   macro avg       0.43      0.38      0.38     10000\n",
            "weighted avg       0.43      0.38      0.38     10000\n",
            "\n"
          ],
          "name": "stdout"
        }
      ]
    },
    {
      "cell_type": "code",
      "metadata": {
        "colab": {
          "base_uri": "https://localhost:8080/"
        },
        "id": "34tJZjEGdsuT",
        "outputId": "c8440786-7f34-4454-b41b-4f53bf1e6790"
      },
      "source": [
        "y_cat_train[0]"
      ],
      "execution_count": 81,
      "outputs": [
        {
          "output_type": "execute_result",
          "data": {
            "text/plain": [
              "array([0., 0., 0., 0., 0., 0., 0., 0., 0., 0., 0., 0., 0., 0., 0., 0., 0.,\n",
              "       0., 0., 1., 0., 0., 0., 0., 0., 0., 0., 0., 0., 0., 0., 0., 0., 0.,\n",
              "       0., 0., 0., 0., 0., 0., 0., 0., 0., 0., 0., 0., 0., 0., 0., 0., 0.,\n",
              "       0., 0., 0., 0., 0., 0., 0., 0., 0., 0., 0., 0., 0., 0., 0., 0., 0.,\n",
              "       0., 0., 0., 0., 0., 0., 0., 0., 0., 0., 0., 0., 0., 0., 0., 0., 0.,\n",
              "       0., 0., 0., 0., 0., 0., 0., 0., 0., 0., 0., 0., 0., 0., 0.],\n",
              "      dtype=float32)"
            ]
          },
          "metadata": {
            "tags": []
          },
          "execution_count": 81
        }
      ]
    },
    {
      "cell_type": "code",
      "metadata": {
        "id": "vlQfDBGZewTm"
      },
      "source": [
        ""
      ],
      "execution_count": null,
      "outputs": []
    }
  ]
}